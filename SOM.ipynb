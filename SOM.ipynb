{
 "cells": [
  {
   "cell_type": "code",
   "execution_count": 1,
   "metadata": {},
   "outputs": [],
   "source": [
    "import numpy as np\n",
    "\n",
    "import matplotlib.pyplot as plt\n",
    "\n",
    "import pandas as pd\n",
    "\n",
    "# Minisom library and module is used for performing Self Organizing Maps\n",
    "\n",
    "from minisom import MiniSom"
   ]
  },
  {
   "cell_type": "code",
   "execution_count": 2,
   "metadata": {},
   "outputs": [
    {
     "data": {
      "text/html": [
       "<div>\n",
       "<style scoped>\n",
       "    .dataframe tbody tr th:only-of-type {\n",
       "        vertical-align: middle;\n",
       "    }\n",
       "\n",
       "    .dataframe tbody tr th {\n",
       "        vertical-align: top;\n",
       "    }\n",
       "\n",
       "    .dataframe thead th {\n",
       "        text-align: right;\n",
       "    }\n",
       "</style>\n",
       "<table border=\"1\" class=\"dataframe\">\n",
       "  <thead>\n",
       "    <tr style=\"text-align: right;\">\n",
       "      <th></th>\n",
       "      <th>0</th>\n",
       "      <th>1</th>\n",
       "      <th>2</th>\n",
       "      <th>3</th>\n",
       "      <th>4</th>\n",
       "      <th>5</th>\n",
       "      <th>6</th>\n",
       "      <th>7</th>\n",
       "      <th>8</th>\n",
       "      <th>9</th>\n",
       "    </tr>\n",
       "  </thead>\n",
       "  <tbody>\n",
       "    <tr>\n",
       "      <th>0</th>\n",
       "      <td>55</td>\n",
       "      <td>0</td>\n",
       "      <td>81</td>\n",
       "      <td>0</td>\n",
       "      <td>-6</td>\n",
       "      <td>11</td>\n",
       "      <td>25</td>\n",
       "      <td>88</td>\n",
       "      <td>64</td>\n",
       "      <td>4</td>\n",
       "    </tr>\n",
       "    <tr>\n",
       "      <th>1</th>\n",
       "      <td>56</td>\n",
       "      <td>0</td>\n",
       "      <td>96</td>\n",
       "      <td>0</td>\n",
       "      <td>52</td>\n",
       "      <td>-4</td>\n",
       "      <td>40</td>\n",
       "      <td>44</td>\n",
       "      <td>4</td>\n",
       "      <td>4</td>\n",
       "    </tr>\n",
       "    <tr>\n",
       "      <th>2</th>\n",
       "      <td>50</td>\n",
       "      <td>-1</td>\n",
       "      <td>89</td>\n",
       "      <td>-7</td>\n",
       "      <td>50</td>\n",
       "      <td>0</td>\n",
       "      <td>39</td>\n",
       "      <td>40</td>\n",
       "      <td>2</td>\n",
       "      <td>1</td>\n",
       "    </tr>\n",
       "    <tr>\n",
       "      <th>3</th>\n",
       "      <td>53</td>\n",
       "      <td>9</td>\n",
       "      <td>79</td>\n",
       "      <td>0</td>\n",
       "      <td>42</td>\n",
       "      <td>-2</td>\n",
       "      <td>25</td>\n",
       "      <td>37</td>\n",
       "      <td>12</td>\n",
       "      <td>4</td>\n",
       "    </tr>\n",
       "    <tr>\n",
       "      <th>4</th>\n",
       "      <td>55</td>\n",
       "      <td>2</td>\n",
       "      <td>82</td>\n",
       "      <td>0</td>\n",
       "      <td>54</td>\n",
       "      <td>-6</td>\n",
       "      <td>26</td>\n",
       "      <td>28</td>\n",
       "      <td>2</td>\n",
       "      <td>1</td>\n",
       "    </tr>\n",
       "  </tbody>\n",
       "</table>\n",
       "</div>"
      ],
      "text/plain": [
       "    0  1   2  3   4   5   6   7   8  9\n",
       "0  55  0  81  0  -6  11  25  88  64  4\n",
       "1  56  0  96  0  52  -4  40  44   4  4\n",
       "2  50 -1  89 -7  50   0  39  40   2  1\n",
       "3  53  9  79  0  42  -2  25  37  12  4\n",
       "4  55  2  82  0  54  -6  26  28   2  1"
      ]
     },
     "execution_count": 2,
     "metadata": {},
     "output_type": "execute_result"
    }
   ],
   "source": [
    "data = pd.read_table('shuttle.tst', sep=' ', header=None)\n",
    "\n",
    "data.head()"
   ]
  },
  {
   "cell_type": "code",
   "execution_count": 3,
   "metadata": {},
   "outputs": [],
   "source": [
    "X = data.iloc[:,:-1].values\n",
    "\n",
    "y = data.iloc[:,9:10].values"
   ]
  },
  {
   "cell_type": "code",
   "execution_count": 4,
   "metadata": {},
   "outputs": [],
   "source": [
    "# Set the hyper parameters\n",
    "som_grid_rows = 10\n",
    "som_grid_columns = 10\n",
    "iterations = 20000\n",
    "sigma = 1\n",
    "learning_rate = 0.1"
   ]
  },
  {
   "cell_type": "code",
   "execution_count": 5,
   "metadata": {},
   "outputs": [],
   "source": [
    "# define SOM:\n",
    "\n",
    "som = MiniSom(x = som_grid_rows, y = som_grid_columns, input_len=9, sigma=sigma, learning_rate=learning_rate)\n",
    "\n",
    "# Initializing the weights\n",
    "\n",
    "som.random_weights_init(X)\n",
    "\n",
    "# Training\n",
    "\n",
    "som.train_random(X, iterations)"
   ]
  },
  {
   "cell_type": "code",
   "execution_count": 6,
   "metadata": {},
   "outputs": [
    {
     "ename": "AttributeError",
     "evalue": "'MiniSom' object has no attribute 'weights'",
     "output_type": "error",
     "traceback": [
      "\u001b[1;31m---------------------------------------------------------------------------\u001b[0m",
      "\u001b[1;31mAttributeError\u001b[0m                            Traceback (most recent call last)",
      "\u001b[1;32mf:\\2022-2\\neural networks\\SOM.ipynb Celda 6\u001b[0m in \u001b[0;36m<cell line: 2>\u001b[1;34m()\u001b[0m\n\u001b[0;32m      <a href='vscode-notebook-cell:/f%3A/2022-2/neural%20networks/SOM.ipynb#W5sZmlsZQ%3D%3D?line=0'>1</a>\u001b[0m \u001b[39m# Weights are:\u001b[39;00m\n\u001b[1;32m----> <a href='vscode-notebook-cell:/f%3A/2022-2/neural%20networks/SOM.ipynb#W5sZmlsZQ%3D%3D?line=1'>2</a>\u001b[0m wts \u001b[39m=\u001b[39m som\u001b[39m.\u001b[39;49mweights\n\u001b[0;32m      <a href='vscode-notebook-cell:/f%3A/2022-2/neural%20networks/SOM.ipynb#W5sZmlsZQ%3D%3D?line=2'>3</a>\u001b[0m \u001b[39m# Shape of the weight are:\u001b[39;00m\n\u001b[0;32m      <a href='vscode-notebook-cell:/f%3A/2022-2/neural%20networks/SOM.ipynb#W5sZmlsZQ%3D%3D?line=3'>4</a>\u001b[0m wts\u001b[39m.\u001b[39mshape\n",
      "\u001b[1;31mAttributeError\u001b[0m: 'MiniSom' object has no attribute 'weights'"
     ]
    }
   ],
   "source": [
    "# Weights are:\n",
    "wts = som.weights\n",
    "# Shape of the weight are:\n",
    "wts.shape\n",
    "# Returns the distance map from the weights:\n",
    "som.distance_map()"
   ]
  },
  {
   "cell_type": "code",
   "execution_count": 6,
   "metadata": {},
   "outputs": [
    {
     "data": {
      "image/png": "[encoded data removed]",
      "text/plain": [
       "<Figure size 640x480 with 2 Axes>"
      ]
     },
     "metadata": {},
     "output_type": "display_data"
    }
   ],
   "source": [
    "from pylab import plot, axis, show, pcolor, colorbar, bone\n",
    "bone()\n",
    "pcolor(som.distance_map().T)       # Distance map as background\n",
    "colorbar()\n",
    "show()"
   ]
  },
  {
   "cell_type": "code",
   "execution_count": 7,
   "metadata": {},
   "outputs": [
    {
     "ename": "ValueError",
     "evalue": "operands could not be broadcast together with shapes (14500,9) (10,10,9) ",
     "output_type": "error",
     "traceback": [
      "\u001b[1;31m---------------------------------------------------------------------------\u001b[0m",
      "\u001b[1;31mValueError\u001b[0m                                Traceback (most recent call last)",
      "\u001b[1;32mf:\\2022-2\\neural networks\\SOM.ipynb Celda 8\u001b[0m in \u001b[0;36m<cell line: 1>\u001b[1;34m()\u001b[0m\n\u001b[1;32m----> <a href='vscode-notebook-cell:/f%3A/2022-2/neural%20networks/SOM.ipynb#X10sZmlsZQ%3D%3D?line=0'>1</a>\u001b[0m som\u001b[39m.\u001b[39;49mwinner(X)\n",
      "File \u001b[1;32m~\\AppData\\Local\\Packages\\PythonSoftwareFoundation.Python.3.10_qbz5n2kfra8p0\\LocalCache\\local-packages\\Python310\\site-packages\\minisom.py:314\u001b[0m, in \u001b[0;36mMiniSom.winner\u001b[1;34m(self, x)\u001b[0m\n\u001b[0;32m    312\u001b[0m \u001b[39mdef\u001b[39;00m \u001b[39mwinner\u001b[39m(\u001b[39mself\u001b[39m, x):\n\u001b[0;32m    313\u001b[0m     \u001b[39m\"\"\"Computes the coordinates of the winning neuron for the sample x.\"\"\"\u001b[39;00m\n\u001b[1;32m--> 314\u001b[0m     \u001b[39mself\u001b[39;49m\u001b[39m.\u001b[39;49m_activate(x)\n\u001b[0;32m    315\u001b[0m     \u001b[39mreturn\u001b[39;00m unravel_index(\u001b[39mself\u001b[39m\u001b[39m.\u001b[39m_activation_map\u001b[39m.\u001b[39margmin(),\n\u001b[0;32m    316\u001b[0m                          \u001b[39mself\u001b[39m\u001b[39m.\u001b[39m_activation_map\u001b[39m.\u001b[39mshape)\n",
      "File \u001b[1;32m~\\AppData\\Local\\Packages\\PythonSoftwareFoundation.Python.3.10_qbz5n2kfra8p0\\LocalCache\\local-packages\\Python310\\site-packages\\minisom.py:248\u001b[0m, in \u001b[0;36mMiniSom._activate\u001b[1;34m(self, x)\u001b[0m\n\u001b[0;32m    245\u001b[0m \u001b[39mdef\u001b[39;00m \u001b[39m_activate\u001b[39m(\u001b[39mself\u001b[39m, x):\n\u001b[0;32m    246\u001b[0m     \u001b[39m\"\"\"Updates matrix activation_map, in this matrix\u001b[39;00m\n\u001b[0;32m    247\u001b[0m \u001b[39m       the element i,j is the response of the neuron i,j to x.\"\"\"\u001b[39;00m\n\u001b[1;32m--> 248\u001b[0m     \u001b[39mself\u001b[39m\u001b[39m.\u001b[39m_activation_map \u001b[39m=\u001b[39m \u001b[39mself\u001b[39;49m\u001b[39m.\u001b[39;49m_activation_distance(x, \u001b[39mself\u001b[39;49m\u001b[39m.\u001b[39;49m_weights)\n",
      "File \u001b[1;32m~\\AppData\\Local\\Packages\\PythonSoftwareFoundation.Python.3.10_qbz5n2kfra8p0\\LocalCache\\local-packages\\Python310\\site-packages\\minisom.py:292\u001b[0m, in \u001b[0;36mMiniSom._euclidean_distance\u001b[1;34m(self, x, w)\u001b[0m\n\u001b[0;32m    291\u001b[0m \u001b[39mdef\u001b[39;00m \u001b[39m_euclidean_distance\u001b[39m(\u001b[39mself\u001b[39m, x, w):\n\u001b[1;32m--> 292\u001b[0m     \u001b[39mreturn\u001b[39;00m linalg\u001b[39m.\u001b[39mnorm(subtract(x, w), axis\u001b[39m=\u001b[39m\u001b[39m-\u001b[39m\u001b[39m1\u001b[39m)\n",
      "\u001b[1;31mValueError\u001b[0m: operands could not be broadcast together with shapes (14500,9) (10,10,9) "
     ]
    }
   ],
   "source": [
    "som.winner(X)"
   ]
  },
  {
   "cell_type": "code",
   "execution_count": 8,
   "metadata": {},
   "outputs": [
    {
     "ename": "TypeError",
     "evalue": "only integer scalar arrays can be converted to a scalar index",
     "output_type": "error",
     "traceback": [
      "\u001b[1;31m---------------------------------------------------------------------------\u001b[0m",
      "\u001b[1;31mTypeError\u001b[0m                                 Traceback (most recent call last)",
      "\u001b[1;32mf:\\2022-2\\neural networks\\SOM.ipynb Celda 9\u001b[0m in \u001b[0;36m<cell line: 11>\u001b[1;34m()\u001b[0m\n\u001b[0;32m     <a href='vscode-notebook-cell:/f%3A/2022-2/neural%20networks/SOM.ipynb#X11sZmlsZQ%3D%3D?line=10'>11</a>\u001b[0m \u001b[39mfor\u001b[39;00m i, x \u001b[39min\u001b[39;00m \u001b[39menumerate\u001b[39m(X):\n\u001b[0;32m     <a href='vscode-notebook-cell:/f%3A/2022-2/neural%20networks/SOM.ipynb#X11sZmlsZQ%3D%3D?line=12'>13</a>\u001b[0m     w \u001b[39m=\u001b[39m som\u001b[39m.\u001b[39mwinner(x)\n\u001b[0;32m     <a href='vscode-notebook-cell:/f%3A/2022-2/neural%20networks/SOM.ipynb#X11sZmlsZQ%3D%3D?line=14'>15</a>\u001b[0m     plot(w[\u001b[39m0\u001b[39m] \u001b[39m+\u001b[39m \u001b[39m0.5\u001b[39m,\n\u001b[0;32m     <a href='vscode-notebook-cell:/f%3A/2022-2/neural%20networks/SOM.ipynb#X11sZmlsZQ%3D%3D?line=15'>16</a>\u001b[0m \n\u001b[0;32m     <a href='vscode-notebook-cell:/f%3A/2022-2/neural%20networks/SOM.ipynb#X11sZmlsZQ%3D%3D?line=16'>17</a>\u001b[0m          w[\u001b[39m1\u001b[39m] \u001b[39m+\u001b[39m \u001b[39m0.5\u001b[39m,\n\u001b[0;32m     <a href='vscode-notebook-cell:/f%3A/2022-2/neural%20networks/SOM.ipynb#X11sZmlsZQ%3D%3D?line=17'>18</a>\u001b[0m \n\u001b[1;32m---> <a href='vscode-notebook-cell:/f%3A/2022-2/neural%20networks/SOM.ipynb#X11sZmlsZQ%3D%3D?line=18'>19</a>\u001b[0m          markers[y[i]],\n\u001b[0;32m     <a href='vscode-notebook-cell:/f%3A/2022-2/neural%20networks/SOM.ipynb#X11sZmlsZQ%3D%3D?line=19'>20</a>\u001b[0m \n\u001b[0;32m     <a href='vscode-notebook-cell:/f%3A/2022-2/neural%20networks/SOM.ipynb#X11sZmlsZQ%3D%3D?line=20'>21</a>\u001b[0m          markeredgecolor \u001b[39m=\u001b[39m colors[y[i]],\n\u001b[0;32m     <a href='vscode-notebook-cell:/f%3A/2022-2/neural%20networks/SOM.ipynb#X11sZmlsZQ%3D%3D?line=21'>22</a>\u001b[0m \n\u001b[0;32m     <a href='vscode-notebook-cell:/f%3A/2022-2/neural%20networks/SOM.ipynb#X11sZmlsZQ%3D%3D?line=22'>23</a>\u001b[0m          markerfacecolor \u001b[39m=\u001b[39m \u001b[39m'\u001b[39m\u001b[39mNone\u001b[39m\u001b[39m'\u001b[39m,\n\u001b[0;32m     <a href='vscode-notebook-cell:/f%3A/2022-2/neural%20networks/SOM.ipynb#X11sZmlsZQ%3D%3D?line=23'>24</a>\u001b[0m \n\u001b[0;32m     <a href='vscode-notebook-cell:/f%3A/2022-2/neural%20networks/SOM.ipynb#X11sZmlsZQ%3D%3D?line=24'>25</a>\u001b[0m          markersize \u001b[39m=\u001b[39m \u001b[39m10\u001b[39m,\n\u001b[0;32m     <a href='vscode-notebook-cell:/f%3A/2022-2/neural%20networks/SOM.ipynb#X11sZmlsZQ%3D%3D?line=25'>26</a>\u001b[0m \n\u001b[0;32m     <a href='vscode-notebook-cell:/f%3A/2022-2/neural%20networks/SOM.ipynb#X11sZmlsZQ%3D%3D?line=26'>27</a>\u001b[0m          markeredgewidth \u001b[39m=\u001b[39m \u001b[39m2\u001b[39m)\n\u001b[0;32m     <a href='vscode-notebook-cell:/f%3A/2022-2/neural%20networks/SOM.ipynb#X11sZmlsZQ%3D%3D?line=28'>29</a>\u001b[0m show()\n",
      "\u001b[1;31mTypeError\u001b[0m: only integer scalar arrays can be converted to a scalar index"
     ]
    },
    {
     "data": {
      "image/png": "[encoded data removed]",
      "text/plain": [
       "<Figure size 640x480 with 2 Axes>"
      ]
     },
     "metadata": {},
     "output_type": "display_data"
    }
   ],
   "source": [
    "bone()\n",
    "\n",
    "pcolor(som.distance_map().T)\n",
    "\n",
    "colorbar() #gives legend\n",
    "\n",
    "markers = ['o', 's']                     # if the observation is fraud then red circular color or else green square\n",
    "\n",
    "colors = ['r', 'g']\n",
    "\n",
    "for i, x in enumerate(X):\n",
    "\n",
    "    w = som.winner(x)\n",
    "\n",
    "    plot(w[0] + 0.5,\n",
    "\n",
    "         w[1] + 0.5,\n",
    "\n",
    "         markers[y[i]],\n",
    "\n",
    "         markeredgecolor = colors[y[i]],\n",
    "\n",
    "         markerfacecolor = 'None',\n",
    "\n",
    "         markersize = 10,\n",
    "\n",
    "         markeredgewidth = 2)\n",
    "\n",
    "show()"
   ]
  },
  {
   "cell_type": "code",
   "execution_count": 11,
   "metadata": {},
   "outputs": [
    {
     "ename": "TypeError",
     "evalue": "object of type 'numpy.int64' has no len()",
     "output_type": "error",
     "traceback": [
      "\u001b[1;31m---------------------------------------------------------------------------\u001b[0m",
      "\u001b[1;31mTypeError\u001b[0m                                 Traceback (most recent call last)",
      "\u001b[1;32mf:\\2022-2\\neural networks\\SOM.ipynb Celda 10\u001b[0m in \u001b[0;36m<cell line: 1>\u001b[1;34m()\u001b[0m\n\u001b[1;32m----> <a href='vscode-notebook-cell:/f%3A/2022-2/neural%20networks/SOM.ipynb#X12sZmlsZQ%3D%3D?line=0'>1</a>\u001b[0m mappings \u001b[39m=\u001b[39m som\u001b[39m.\u001b[39;49mwin_map(x)\n\u001b[0;32m      <a href='vscode-notebook-cell:/f%3A/2022-2/neural%20networks/SOM.ipynb#X12sZmlsZQ%3D%3D?line=2'>3</a>\u001b[0m mappings\n\u001b[0;32m      <a href='vscode-notebook-cell:/f%3A/2022-2/neural%20networks/SOM.ipynb#X12sZmlsZQ%3D%3D?line=4'>5</a>\u001b[0m mappings\u001b[39m.\u001b[39mkeys()\n",
      "File \u001b[1;32m~\\AppData\\Local\\Packages\\PythonSoftwareFoundation.Python.3.10_qbz5n2kfra8p0\\LocalCache\\local-packages\\Python310\\site-packages\\minisom.py:556\u001b[0m, in \u001b[0;36mMiniSom.win_map\u001b[1;34m(self, data, return_indices)\u001b[0m\n\u001b[0;32m    550\u001b[0m \u001b[39mdef\u001b[39;00m \u001b[39mwin_map\u001b[39m(\u001b[39mself\u001b[39m, data, return_indices\u001b[39m=\u001b[39m\u001b[39mFalse\u001b[39;00m):\n\u001b[0;32m    551\u001b[0m     \u001b[39m\"\"\"Returns a dictionary wm where wm[(i,j)] is a list with:\u001b[39;00m\n\u001b[0;32m    552\u001b[0m \u001b[39m    - all the patterns that have been mapped to the position (i,j),\u001b[39;00m\n\u001b[0;32m    553\u001b[0m \u001b[39m      if return_indices=False (default)\u001b[39;00m\n\u001b[0;32m    554\u001b[0m \u001b[39m    - all indices of the elements that have been mapped to the\u001b[39;00m\n\u001b[0;32m    555\u001b[0m \u001b[39m      position (i,j) if return_indices=True\"\"\"\u001b[39;00m\n\u001b[1;32m--> 556\u001b[0m     \u001b[39mself\u001b[39;49m\u001b[39m.\u001b[39;49m_check_input_len(data)\n\u001b[0;32m    557\u001b[0m     winmap \u001b[39m=\u001b[39m defaultdict(\u001b[39mlist\u001b[39m)\n\u001b[0;32m    558\u001b[0m     \u001b[39mfor\u001b[39;00m i, x \u001b[39min\u001b[39;00m \u001b[39menumerate\u001b[39m(data):\n",
      "File \u001b[1;32m~\\AppData\\Local\\Packages\\PythonSoftwareFoundation.Python.3.10_qbz5n2kfra8p0\\LocalCache\\local-packages\\Python310\\site-packages\\minisom.py:306\u001b[0m, in \u001b[0;36mMiniSom._check_input_len\u001b[1;34m(self, data)\u001b[0m\n\u001b[0;32m    304\u001b[0m \u001b[39mdef\u001b[39;00m \u001b[39m_check_input_len\u001b[39m(\u001b[39mself\u001b[39m, data):\n\u001b[0;32m    305\u001b[0m     \u001b[39m\"\"\"Checks that the data in input is of the correct shape.\"\"\"\u001b[39;00m\n\u001b[1;32m--> 306\u001b[0m     data_len \u001b[39m=\u001b[39m \u001b[39mlen\u001b[39;49m(data[\u001b[39m0\u001b[39;49m])\n\u001b[0;32m    307\u001b[0m     \u001b[39mif\u001b[39;00m \u001b[39mself\u001b[39m\u001b[39m.\u001b[39m_input_len \u001b[39m!=\u001b[39m data_len:\n\u001b[0;32m    308\u001b[0m         msg \u001b[39m=\u001b[39m \u001b[39m'\u001b[39m\u001b[39mReceived \u001b[39m\u001b[39m%d\u001b[39;00m\u001b[39m features, expected \u001b[39m\u001b[39m%d\u001b[39;00m\u001b[39m.\u001b[39m\u001b[39m'\u001b[39m \u001b[39m%\u001b[39m (data_len,\n\u001b[0;32m    309\u001b[0m                                                       \u001b[39mself\u001b[39m\u001b[39m.\u001b[39m_input_len)\n",
      "\u001b[1;31mTypeError\u001b[0m: object of type 'numpy.int64' has no len()"
     ]
    }
   ],
   "source": [
    "mappings = som.win_map(x)\n",
    "\n",
    "mappings\n",
    "\n",
    "mappings.keys()\n",
    "\n",
    "len(mappings.keys())\n",
    "\n",
    "mappings[(9,8)]\n"
   ]
  }
 ],
 "metadata": {
  "kernelspec": {
   "display_name": "Python 3.10.8 64-bit (microsoft store)",
   "language": "python",
   "name": "python3"
  },
  "language_info": {
   "codemirror_mode": {
    "name": "ipython",
    "version": 3
   },
   "file_extension": ".py",
   "mimetype": "text/x-python",
   "name": "python",
   "nbconvert_exporter": "python",
   "pygments_lexer": "ipython3",
   "version": "3.10.8"
  },
  "orig_nbformat": 4,
  "vscode": {
   "interpreter": {
    "hash": "51d73a63d587949d22c037cbe4a5cfa654ea8293b64812750ba1392921e40c26"
   }
  }
 },
 "nbformat": 4,
 "nbformat_minor": 2
}
