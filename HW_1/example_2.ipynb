{
 "cells": [
  {
   "cell_type": "code",
   "execution_count": 3,
   "metadata": {},
   "outputs": [],
   "source": [
    "import pandas as pd\n",
    "import matplotlib.pyplot as plt\n",
    "\n",
    "from sklearn.model_selection import train_test_split\n",
    "from sklearn.preprocessing import LabelEncoder\n",
    "from tensorflow.keras import Sequential\n",
    "from tensorflow.keras.layers import Dense"
   ]
  },
  {
   "cell_type": "code",
   "execution_count": 5,
   "metadata": {},
   "outputs": [
    {
     "data": {
      "text/html": [
       "<div>\n",
       "<style scoped>\n",
       "    .dataframe tbody tr th:only-of-type {\n",
       "        vertical-align: middle;\n",
       "    }\n",
       "\n",
       "    .dataframe tbody tr th {\n",
       "        vertical-align: top;\n",
       "    }\n",
       "\n",
       "    .dataframe thead th {\n",
       "        text-align: right;\n",
       "    }\n",
       "</style>\n",
       "<table border=\"1\" class=\"dataframe\">\n",
       "  <thead>\n",
       "    <tr style=\"text-align: right;\">\n",
       "      <th></th>\n",
       "      <th>id</th>\n",
       "      <th>name</th>\n",
       "      <th>est_diameter_min</th>\n",
       "      <th>est_diameter_max</th>\n",
       "      <th>relative_velocity</th>\n",
       "      <th>miss_distance</th>\n",
       "      <th>orbiting_body</th>\n",
       "      <th>sentry_object</th>\n",
       "      <th>absolute_magnitude</th>\n",
       "      <th>hazardous</th>\n",
       "    </tr>\n",
       "  </thead>\n",
       "  <tbody>\n",
       "    <tr>\n",
       "      <th>0</th>\n",
       "      <td>2162635</td>\n",
       "      <td>162635 (2000 SS164)</td>\n",
       "      <td>1.198271</td>\n",
       "      <td>2.679415</td>\n",
       "      <td>13569.249224</td>\n",
       "      <td>5.483974e+07</td>\n",
       "      <td>Earth</td>\n",
       "      <td>False</td>\n",
       "      <td>16.73</td>\n",
       "      <td>False</td>\n",
       "    </tr>\n",
       "    <tr>\n",
       "      <th>1</th>\n",
       "      <td>2277475</td>\n",
       "      <td>277475 (2005 WK4)</td>\n",
       "      <td>0.265800</td>\n",
       "      <td>0.594347</td>\n",
       "      <td>73588.726663</td>\n",
       "      <td>6.143813e+07</td>\n",
       "      <td>Earth</td>\n",
       "      <td>False</td>\n",
       "      <td>20.00</td>\n",
       "      <td>True</td>\n",
       "    </tr>\n",
       "    <tr>\n",
       "      <th>2</th>\n",
       "      <td>2512244</td>\n",
       "      <td>512244 (2015 YE18)</td>\n",
       "      <td>0.722030</td>\n",
       "      <td>1.614507</td>\n",
       "      <td>114258.692129</td>\n",
       "      <td>4.979872e+07</td>\n",
       "      <td>Earth</td>\n",
       "      <td>False</td>\n",
       "      <td>17.83</td>\n",
       "      <td>False</td>\n",
       "    </tr>\n",
       "    <tr>\n",
       "      <th>3</th>\n",
       "      <td>3596030</td>\n",
       "      <td>(2012 BV13)</td>\n",
       "      <td>0.096506</td>\n",
       "      <td>0.215794</td>\n",
       "      <td>24764.303138</td>\n",
       "      <td>2.543497e+07</td>\n",
       "      <td>Earth</td>\n",
       "      <td>False</td>\n",
       "      <td>22.20</td>\n",
       "      <td>False</td>\n",
       "    </tr>\n",
       "    <tr>\n",
       "      <th>4</th>\n",
       "      <td>3667127</td>\n",
       "      <td>(2014 GE35)</td>\n",
       "      <td>0.255009</td>\n",
       "      <td>0.570217</td>\n",
       "      <td>42737.733765</td>\n",
       "      <td>4.627557e+07</td>\n",
       "      <td>Earth</td>\n",
       "      <td>False</td>\n",
       "      <td>20.09</td>\n",
       "      <td>True</td>\n",
       "    </tr>\n",
       "  </tbody>\n",
       "</table>\n",
       "</div>"
      ],
      "text/plain": [
       "        id                 name  est_diameter_min  est_diameter_max  \\\n",
       "0  2162635  162635 (2000 SS164)          1.198271          2.679415   \n",
       "1  2277475    277475 (2005 WK4)          0.265800          0.594347   \n",
       "2  2512244   512244 (2015 YE18)          0.722030          1.614507   \n",
       "3  3596030          (2012 BV13)          0.096506          0.215794   \n",
       "4  3667127          (2014 GE35)          0.255009          0.570217   \n",
       "\n",
       "   relative_velocity  miss_distance orbiting_body  sentry_object  \\\n",
       "0       13569.249224   5.483974e+07         Earth          False   \n",
       "1       73588.726663   6.143813e+07         Earth          False   \n",
       "2      114258.692129   4.979872e+07         Earth          False   \n",
       "3       24764.303138   2.543497e+07         Earth          False   \n",
       "4       42737.733765   4.627557e+07         Earth          False   \n",
       "\n",
       "   absolute_magnitude  hazardous  \n",
       "0               16.73      False  \n",
       "1               20.00       True  \n",
       "2               17.83      False  \n",
       "3               22.20      False  \n",
       "4               20.09       True  "
      ]
     },
     "execution_count": 5,
     "metadata": {},
     "output_type": "execute_result"
    }
   ],
   "source": [
    "neo = pd.read_csv(\"neo.csv\")\n",
    "\n",
    "# neo = neo.sample(1000) # Smaller sample for demonstration purposes\n",
    "\n",
    "neo.head()"
   ]
  },
  {
   "cell_type": "code",
   "execution_count": 6,
   "metadata": {},
   "outputs": [
    {
     "data": {
      "text/html": [
       "<div>\n",
       "<style scoped>\n",
       "    .dataframe tbody tr th:only-of-type {\n",
       "        vertical-align: middle;\n",
       "    }\n",
       "\n",
       "    .dataframe tbody tr th {\n",
       "        vertical-align: top;\n",
       "    }\n",
       "\n",
       "    .dataframe thead th {\n",
       "        text-align: right;\n",
       "    }\n",
       "</style>\n",
       "<table border=\"1\" class=\"dataframe\">\n",
       "  <thead>\n",
       "    <tr style=\"text-align: right;\">\n",
       "      <th></th>\n",
       "      <th>est_diameter_min</th>\n",
       "      <th>est_diameter_max</th>\n",
       "      <th>relative_velocity</th>\n",
       "      <th>miss_distance</th>\n",
       "      <th>absolute_magnitude</th>\n",
       "      <th>hazardous</th>\n",
       "    </tr>\n",
       "  </thead>\n",
       "  <tbody>\n",
       "    <tr>\n",
       "      <th>0</th>\n",
       "      <td>1.198271</td>\n",
       "      <td>2.679415</td>\n",
       "      <td>13569.249224</td>\n",
       "      <td>5.483974e+07</td>\n",
       "      <td>16.73</td>\n",
       "      <td>False</td>\n",
       "    </tr>\n",
       "    <tr>\n",
       "      <th>1</th>\n",
       "      <td>0.265800</td>\n",
       "      <td>0.594347</td>\n",
       "      <td>73588.726663</td>\n",
       "      <td>6.143813e+07</td>\n",
       "      <td>20.00</td>\n",
       "      <td>True</td>\n",
       "    </tr>\n",
       "    <tr>\n",
       "      <th>2</th>\n",
       "      <td>0.722030</td>\n",
       "      <td>1.614507</td>\n",
       "      <td>114258.692129</td>\n",
       "      <td>4.979872e+07</td>\n",
       "      <td>17.83</td>\n",
       "      <td>False</td>\n",
       "    </tr>\n",
       "    <tr>\n",
       "      <th>3</th>\n",
       "      <td>0.096506</td>\n",
       "      <td>0.215794</td>\n",
       "      <td>24764.303138</td>\n",
       "      <td>2.543497e+07</td>\n",
       "      <td>22.20</td>\n",
       "      <td>False</td>\n",
       "    </tr>\n",
       "    <tr>\n",
       "      <th>4</th>\n",
       "      <td>0.255009</td>\n",
       "      <td>0.570217</td>\n",
       "      <td>42737.733765</td>\n",
       "      <td>4.627557e+07</td>\n",
       "      <td>20.09</td>\n",
       "      <td>True</td>\n",
       "    </tr>\n",
       "  </tbody>\n",
       "</table>\n",
       "</div>"
      ],
      "text/plain": [
       "   est_diameter_min  est_diameter_max  relative_velocity  miss_distance  \\\n",
       "0          1.198271          2.679415       13569.249224   5.483974e+07   \n",
       "1          0.265800          0.594347       73588.726663   6.143813e+07   \n",
       "2          0.722030          1.614507      114258.692129   4.979872e+07   \n",
       "3          0.096506          0.215794       24764.303138   2.543497e+07   \n",
       "4          0.255009          0.570217       42737.733765   4.627557e+07   \n",
       "\n",
       "   absolute_magnitude  hazardous  \n",
       "0               16.73      False  \n",
       "1               20.00       True  \n",
       "2               17.83      False  \n",
       "3               22.20      False  \n",
       "4               20.09       True  "
      ]
     },
     "execution_count": 6,
     "metadata": {},
     "output_type": "execute_result"
    }
   ],
   "source": [
    "neo = neo[[\"est_diameter_min\", \"est_diameter_max\", \"relative_velocity\", \"miss_distance\", \"absolute_magnitude\", \"hazardous\"]]\n",
    "neo.head()"
   ]
  },
  {
   "cell_type": "code",
   "execution_count": 7,
   "metadata": {},
   "outputs": [
    {
     "name": "stdout",
     "output_type": "stream",
     "text": [
      "Hazardous Asteroids amount: 8840 \n",
      "Non-hazardous Asteroids amount: 81996\n",
      "Approximately, 9.732% of the nearby asteroids are hazardous.\n"
     ]
    }
   ],
   "source": [
    "print(\"Hazardous Asteroids amount:\", neo.query('hazardous == True').hazardous.count(), \"\\nNon-hazardous Asteroids amount:\", neo.query('hazardous == False').hazardous.count())\n",
    "proportion = \"%.3f\" % ((neo.query('hazardous == True').hazardous.count()/neo.hazardous.count())*100)\n",
    "print(\"Approximately, \", proportion, \"% of the nearby asteroids are hazardous.\", sep='')"
   ]
  },
  {
   "cell_type": "code",
   "execution_count": 156,
   "metadata": {},
   "outputs": [],
   "source": [
    "# ### Making data amounts proportionate:\n",
    "\n",
    "# neo_false_half = neo.query('hazardous == False').sample(8840)\n",
    "\n",
    "# to_combine = [neo.query('hazardous == True'), neo_false_half]\n",
    "# neo = pd.concat(to_combine)\n",
    "# neo.sample(10)"
   ]
  },
  {
   "cell_type": "code",
   "execution_count": 157,
   "metadata": {},
   "outputs": [
    {
     "name": "stdout",
     "output_type": "stream",
     "text": [
      "Smallest values:\n",
      " est_diameter_min         0.000609\n",
      "est_diameter_max         0.001362\n",
      "relative_velocity      203.346433\n",
      "miss_distance         6745.532516\n",
      "absolute_magnitude           9.23\n",
      "hazardous                   False\n",
      "dtype: object \n",
      "\n",
      "\n",
      "Largest values:\n",
      " est_diameter_min             37.89265\n",
      "est_diameter_max            84.730541\n",
      "relative_velocity       236990.128088\n",
      "miss_distance         74798651.452197\n",
      "absolute_magnitude               33.2\n",
      "hazardous                        True\n",
      "dtype: object\n"
     ]
    }
   ],
   "source": [
    "print(\"Smallest values:\\n\", neo.min(), \"\\n\\n\\nLargest values:\\n\" , neo.max())"
   ]
  },
  {
   "cell_type": "code",
   "execution_count": 158,
   "metadata": {},
   "outputs": [
    {
     "name": "stdout",
     "output_type": "stream",
     "text": [
      "Average values:\n",
      " est_diameter_min      1.274321e-01\n",
      "est_diameter_max      2.849469e-01\n",
      "relative_velocity     4.806692e+04\n",
      "miss_distance         3.706655e+07\n",
      "absolute_magnitude    2.352710e+01\n",
      "hazardous             9.731824e-02\n",
      "dtype: float64 \n",
      "\n",
      "\n",
      "Median values:\n",
      " est_diameter_min      4.836765e-02\n",
      "est_diameter_max      1.081534e-01\n",
      "relative_velocity     4.419012e+04\n",
      "miss_distance         3.784658e+07\n",
      "absolute_magnitude    2.370000e+01\n",
      "hazardous             0.000000e+00\n",
      "dtype: float64\n"
     ]
    }
   ],
   "source": [
    "print(\"Average values:\\n\" , neo.mean(), \"\\n\\n\\nMedian values:\\n\" , neo.median())"
   ]
  },
  {
   "cell_type": "code",
   "execution_count": 159,
   "metadata": {},
   "outputs": [
    {
     "data": {
      "text/plain": [
       "array([[<AxesSubplot:title={'center':'est_diameter_min'}>]], dtype=object)"
      ]
     },
     "execution_count": 159,
     "metadata": {},
     "output_type": "execute_result"
    },
    {
     "data": {
      "image/png": "[encoded data removed]",
      "text/plain": [
       "<Figure size 432x288 with 1 Axes>"
      ]
     },
     "metadata": {
      "needs_background": "light"
     },
     "output_type": "display_data"
    }
   ],
   "source": [
    "neo.hist(column=\"est_diameter_min\", range=[.5, 6])"
   ]
  },
  {
   "cell_type": "code",
   "execution_count": 160,
   "metadata": {},
   "outputs": [
    {
     "data": {
      "image/png": "[encoded data removed]",
      "text/plain": [
       "<Figure size 432x288 with 2 Axes>"
      ]
     },
     "metadata": {
      "needs_background": "light"
     },
     "output_type": "display_data"
    }
   ],
   "source": [
    "correlation_mat = neo.corr()\n",
    "sns.heatmap(correlation_mat, annot = True)\n",
    "plt.show()"
   ]
  },
  {
   "cell_type": "code",
   "execution_count": 161,
   "metadata": {},
   "outputs": [
    {
     "name": "stdout",
     "output_type": "stream",
     "text": [
      "(60860, 5) (29976, 5) (60860,) (29976,)\n",
      "Number of features: 5\n"
     ]
    }
   ],
   "source": [
    "# Splitting the data into input and output columns\n",
    "X, y = neo.values[:, :-1], neo.values[:, -1]\n",
    "\n",
    "# ensure all values are floatinf types\n",
    "X = X.astype('float32')\n",
    "\n",
    "# Encode strings to integer\n",
    "y = LabelEncoder().fit_transform(y)\n",
    "\n",
    "# Split into training and testing datasets\n",
    "X_train, X_test, y_train, y_test = train_test_split(X,y,test_size=0.33)\n",
    "print(X_train.shape, X_test.shape, y_train.shape, y_test.shape)\n",
    "\n",
    "# Determine the number of features\n",
    "n_features = X_train.shape[1]\n",
    "print('Number of features:', n_features)"
   ]
  },
  {
   "cell_type": "code",
   "execution_count": 162,
   "metadata": {},
   "outputs": [
    {
     "name": "stdout",
     "output_type": "stream",
     "text": [
      "Epoch 1/150\n",
      "1902/1902 - 3s - loss: 95959.5234 - accuracy: 0.8269 - 3s/epoch - 2ms/step\n",
      "Epoch 2/150\n",
      "1902/1902 - 2s - loss: 5384.5723 - accuracy: 0.8205 - 2s/epoch - 1ms/step\n",
      "Epoch 3/150\n",
      "1902/1902 - 2s - loss: 3596.8945 - accuracy: 0.8197 - 2s/epoch - 1ms/step\n",
      "Epoch 4/150\n",
      "1902/1902 - 2s - loss: 2089.9946 - accuracy: 0.8170 - 2s/epoch - 1ms/step\n",
      "Epoch 5/150\n",
      "1902/1902 - 2s - loss: 272.3948 - accuracy: 0.8181 - 2s/epoch - 1ms/step\n",
      "Epoch 6/150\n",
      "1902/1902 - 2s - loss: 15.8184 - accuracy: 0.8298 - 2s/epoch - 1ms/step\n",
      "Epoch 7/150\n",
      "1902/1902 - 2s - loss: 15.2469 - accuracy: 0.8633 - 2s/epoch - 1ms/step\n",
      "Epoch 8/150\n",
      "1902/1902 - 2s - loss: 0.3179 - accuracy: 0.9031 - 2s/epoch - 1ms/step\n",
      "Epoch 9/150\n",
      "1902/1902 - 2s - loss: 0.3179 - accuracy: 0.9031 - 2s/epoch - 1ms/step\n",
      "Epoch 10/150\n",
      "1902/1902 - 2s - loss: 0.3180 - accuracy: 0.9031 - 2s/epoch - 1ms/step\n",
      "Epoch 11/150\n",
      "1902/1902 - 2s - loss: 0.3179 - accuracy: 0.9031 - 2s/epoch - 1ms/step\n",
      "Epoch 12/150\n",
      "1902/1902 - 2s - loss: 0.3179 - accuracy: 0.9031 - 2s/epoch - 1ms/step\n",
      "Epoch 13/150\n",
      "1902/1902 - 2s - loss: 0.3180 - accuracy: 0.9031 - 2s/epoch - 1ms/step\n",
      "Epoch 14/150\n",
      "1902/1902 - 2s - loss: 0.3179 - accuracy: 0.9031 - 2s/epoch - 1ms/step\n",
      "Epoch 15/150\n",
      "1902/1902 - 2s - loss: 0.3180 - accuracy: 0.9031 - 2s/epoch - 1ms/step\n",
      "Epoch 16/150\n",
      "1902/1902 - 2s - loss: 0.3180 - accuracy: 0.9031 - 2s/epoch - 1ms/step\n",
      "Epoch 17/150\n",
      "1902/1902 - 2s - loss: 0.3180 - accuracy: 0.9031 - 2s/epoch - 1ms/step\n",
      "Epoch 18/150\n",
      "1902/1902 - 2s - loss: 0.3180 - accuracy: 0.9031 - 2s/epoch - 1ms/step\n",
      "Epoch 19/150\n",
      "1902/1902 - 2s - loss: 0.3180 - accuracy: 0.9031 - 2s/epoch - 1ms/step\n",
      "Epoch 20/150\n",
      "1902/1902 - 2s - loss: 0.3180 - accuracy: 0.9031 - 2s/epoch - 1ms/step\n",
      "Epoch 21/150\n",
      "1902/1902 - 2s - loss: 0.3180 - accuracy: 0.9031 - 2s/epoch - 1ms/step\n",
      "Epoch 22/150\n",
      "1902/1902 - 2s - loss: 0.3180 - accuracy: 0.9031 - 2s/epoch - 1ms/step\n",
      "Epoch 23/150\n",
      "1902/1902 - 2s - loss: 0.3180 - accuracy: 0.9031 - 2s/epoch - 1ms/step\n",
      "Epoch 24/150\n",
      "1902/1902 - 2s - loss: 0.3180 - accuracy: 0.9031 - 2s/epoch - 1ms/step\n",
      "Epoch 25/150\n",
      "1902/1902 - 2s - loss: 0.3180 - accuracy: 0.9031 - 2s/epoch - 1ms/step\n",
      "Epoch 26/150\n",
      "1902/1902 - 2s - loss: 0.3180 - accuracy: 0.9031 - 2s/epoch - 1ms/step\n",
      "Epoch 27/150\n",
      "1902/1902 - 2s - loss: 0.3180 - accuracy: 0.9031 - 2s/epoch - 1ms/step\n",
      "Epoch 28/150\n",
      "1902/1902 - 2s - loss: 0.3180 - accuracy: 0.9031 - 2s/epoch - 1ms/step\n",
      "Epoch 29/150\n",
      "1902/1902 - 2s - loss: 0.3180 - accuracy: 0.9031 - 2s/epoch - 1ms/step\n",
      "Epoch 30/150\n",
      "1902/1902 - 2s - loss: 0.3180 - accuracy: 0.9031 - 2s/epoch - 1ms/step\n",
      "Epoch 31/150\n",
      "1902/1902 - 2s - loss: 0.3180 - accuracy: 0.9031 - 2s/epoch - 1ms/step\n",
      "Epoch 32/150\n",
      "1902/1902 - 2s - loss: 0.3305 - accuracy: 0.9031 - 2s/epoch - 1ms/step\n",
      "Epoch 33/150\n",
      "1902/1902 - 2s - loss: 0.3179 - accuracy: 0.9031 - 2s/epoch - 1ms/step\n",
      "Epoch 34/150\n",
      "1902/1902 - 2s - loss: 0.3180 - accuracy: 0.9031 - 2s/epoch - 1ms/step\n",
      "Epoch 35/150\n",
      "1902/1902 - 3s - loss: 0.3179 - accuracy: 0.9031 - 3s/epoch - 1ms/step\n",
      "Epoch 36/150\n",
      "1902/1902 - 2s - loss: 0.3180 - accuracy: 0.9031 - 2s/epoch - 1ms/step\n",
      "Epoch 37/150\n",
      "1902/1902 - 2s - loss: 0.3180 - accuracy: 0.9031 - 2s/epoch - 1ms/step\n",
      "Epoch 38/150\n",
      "1902/1902 - 2s - loss: 0.3180 - accuracy: 0.9031 - 2s/epoch - 1ms/step\n",
      "Epoch 39/150\n",
      "1902/1902 - 2s - loss: 0.3180 - accuracy: 0.9031 - 2s/epoch - 1ms/step\n",
      "Epoch 40/150\n",
      "1902/1902 - 3s - loss: 0.3179 - accuracy: 0.9031 - 3s/epoch - 1ms/step\n",
      "Epoch 41/150\n",
      "1902/1902 - 3s - loss: 0.3180 - accuracy: 0.9031 - 3s/epoch - 1ms/step\n",
      "Epoch 42/150\n",
      "1902/1902 - 3s - loss: 0.3300 - accuracy: 0.9031 - 3s/epoch - 1ms/step\n",
      "Epoch 43/150\n",
      "1902/1902 - 3s - loss: 0.3180 - accuracy: 0.9031 - 3s/epoch - 1ms/step\n",
      "Epoch 44/150\n",
      "1902/1902 - 2s - loss: 0.3180 - accuracy: 0.9031 - 2s/epoch - 1ms/step\n",
      "Epoch 45/150\n",
      "1902/1902 - 2s - loss: 0.3179 - accuracy: 0.9031 - 2s/epoch - 1ms/step\n",
      "Epoch 46/150\n",
      "1902/1902 - 2s - loss: 0.3180 - accuracy: 0.9031 - 2s/epoch - 1ms/step\n",
      "Epoch 47/150\n",
      "1902/1902 - 2s - loss: 0.3180 - accuracy: 0.9031 - 2s/epoch - 1ms/step\n",
      "Epoch 48/150\n",
      "1902/1902 - 2s - loss: 0.3179 - accuracy: 0.9031 - 2s/epoch - 1ms/step\n",
      "Epoch 49/150\n",
      "1902/1902 - 2s - loss: 0.3180 - accuracy: 0.9031 - 2s/epoch - 1ms/step\n",
      "Epoch 50/150\n",
      "1902/1902 - 2s - loss: 0.3180 - accuracy: 0.9031 - 2s/epoch - 1ms/step\n",
      "Epoch 51/150\n",
      "1902/1902 - 2s - loss: 0.3179 - accuracy: 0.9031 - 2s/epoch - 1ms/step\n",
      "Epoch 52/150\n",
      "1902/1902 - 2s - loss: 0.3180 - accuracy: 0.9031 - 2s/epoch - 1ms/step\n",
      "Epoch 53/150\n",
      "1902/1902 - 2s - loss: 0.3180 - accuracy: 0.9031 - 2s/epoch - 1ms/step\n",
      "Epoch 54/150\n",
      "1902/1902 - 2s - loss: 0.3180 - accuracy: 0.9031 - 2s/epoch - 1ms/step\n",
      "Epoch 55/150\n",
      "1902/1902 - 2s - loss: 0.3181 - accuracy: 0.9031 - 2s/epoch - 1ms/step\n",
      "Epoch 56/150\n",
      "1902/1902 - 2s - loss: 0.3180 - accuracy: 0.9031 - 2s/epoch - 1ms/step\n",
      "Epoch 57/150\n",
      "1902/1902 - 2s - loss: 0.3181 - accuracy: 0.9031 - 2s/epoch - 1ms/step\n",
      "Epoch 58/150\n",
      "1902/1902 - 2s - loss: 0.3180 - accuracy: 0.9031 - 2s/epoch - 1ms/step\n",
      "Epoch 59/150\n",
      "1902/1902 - 2s - loss: 0.3180 - accuracy: 0.9031 - 2s/epoch - 1ms/step\n",
      "Epoch 60/150\n",
      "1902/1902 - 2s - loss: 0.3180 - accuracy: 0.9031 - 2s/epoch - 1ms/step\n",
      "Epoch 61/150\n",
      "1902/1902 - 2s - loss: 0.3181 - accuracy: 0.9031 - 2s/epoch - 1ms/step\n",
      "Epoch 62/150\n",
      "1902/1902 - 2s - loss: 0.3180 - accuracy: 0.9031 - 2s/epoch - 1ms/step\n",
      "Epoch 63/150\n",
      "1902/1902 - 2s - loss: 0.3180 - accuracy: 0.9031 - 2s/epoch - 1ms/step\n",
      "Epoch 64/150\n",
      "1902/1902 - 2s - loss: 0.3180 - accuracy: 0.9031 - 2s/epoch - 1ms/step\n",
      "Epoch 65/150\n",
      "1902/1902 - 2s - loss: 0.3180 - accuracy: 0.9031 - 2s/epoch - 1ms/step\n",
      "Epoch 66/150\n",
      "1902/1902 - 2s - loss: 0.3180 - accuracy: 0.9031 - 2s/epoch - 1ms/step\n",
      "Epoch 67/150\n",
      "1902/1902 - 2s - loss: 0.3180 - accuracy: 0.9031 - 2s/epoch - 1ms/step\n",
      "Epoch 68/150\n",
      "1902/1902 - 2s - loss: 0.3180 - accuracy: 0.9031 - 2s/epoch - 1ms/step\n",
      "Epoch 69/150\n",
      "1902/1902 - 2s - loss: 0.3180 - accuracy: 0.9031 - 2s/epoch - 1ms/step\n",
      "Epoch 70/150\n",
      "1902/1902 - 2s - loss: 0.3181 - accuracy: 0.9031 - 2s/epoch - 1ms/step\n",
      "Epoch 71/150\n",
      "1902/1902 - 2s - loss: 0.3181 - accuracy: 0.9031 - 2s/epoch - 1ms/step\n",
      "Epoch 72/150\n",
      "1902/1902 - 2s - loss: 0.3181 - accuracy: 0.9031 - 2s/epoch - 1ms/step\n",
      "Epoch 73/150\n",
      "1902/1902 - 2s - loss: 0.3180 - accuracy: 0.9031 - 2s/epoch - 1ms/step\n",
      "Epoch 74/150\n",
      "1902/1902 - 2s - loss: 0.3180 - accuracy: 0.9031 - 2s/epoch - 1ms/step\n",
      "Epoch 75/150\n",
      "1902/1902 - 2s - loss: 0.3180 - accuracy: 0.9031 - 2s/epoch - 1ms/step\n",
      "Epoch 76/150\n",
      "1902/1902 - 2s - loss: 0.3180 - accuracy: 0.9031 - 2s/epoch - 1ms/step\n",
      "Epoch 77/150\n",
      "1902/1902 - 2s - loss: 0.3180 - accuracy: 0.9031 - 2s/epoch - 1ms/step\n",
      "Epoch 78/150\n",
      "1902/1902 - 2s - loss: 0.3180 - accuracy: 0.9031 - 2s/epoch - 1ms/step\n",
      "Epoch 79/150\n",
      "1902/1902 - 2s - loss: 0.3180 - accuracy: 0.9031 - 2s/epoch - 1ms/step\n",
      "Epoch 80/150\n",
      "1902/1902 - 2s - loss: 0.3180 - accuracy: 0.9031 - 2s/epoch - 1ms/step\n",
      "Epoch 81/150\n",
      "1902/1902 - 2s - loss: 0.3181 - accuracy: 0.9031 - 2s/epoch - 1ms/step\n",
      "Epoch 82/150\n",
      "1902/1902 - 2s - loss: 0.3180 - accuracy: 0.9031 - 2s/epoch - 1ms/step\n",
      "Epoch 83/150\n",
      "1902/1902 - 3s - loss: 0.3181 - accuracy: 0.9031 - 3s/epoch - 1ms/step\n",
      "Epoch 84/150\n",
      "1902/1902 - 3s - loss: 0.3180 - accuracy: 0.9031 - 3s/epoch - 1ms/step\n",
      "Epoch 85/150\n",
      "1902/1902 - 3s - loss: 0.3180 - accuracy: 0.9031 - 3s/epoch - 1ms/step\n",
      "Epoch 86/150\n",
      "1902/1902 - 3s - loss: 0.3181 - accuracy: 0.9031 - 3s/epoch - 1ms/step\n",
      "Epoch 87/150\n",
      "1902/1902 - 3s - loss: 0.3180 - accuracy: 0.9031 - 3s/epoch - 1ms/step\n",
      "Epoch 88/150\n",
      "1902/1902 - 3s - loss: 0.3180 - accuracy: 0.9031 - 3s/epoch - 1ms/step\n",
      "Epoch 89/150\n",
      "1902/1902 - 3s - loss: 0.3180 - accuracy: 0.9031 - 3s/epoch - 2ms/step\n",
      "Epoch 90/150\n",
      "1902/1902 - 3s - loss: 0.3180 - accuracy: 0.9031 - 3s/epoch - 2ms/step\n",
      "Epoch 91/150\n"
     ]
    },
    {
     "ename": "KeyboardInterrupt",
     "evalue": "",
     "output_type": "error",
     "traceback": [
      "\u001b[0;31m---------------------------------------------------------------------------\u001b[0m",
      "\u001b[0;31mKeyboardInterrupt\u001b[0m                         Traceback (most recent call last)",
      "\u001b[0;32m/tmp/ipykernel_15375/1582083360.py\u001b[0m in \u001b[0;36m<module>\u001b[0;34m\u001b[0m\n\u001b[1;32m      9\u001b[0m \u001b[0;34m\u001b[0m\u001b[0m\n\u001b[1;32m     10\u001b[0m \u001b[0;31m# Step-3 Fit the model\u001b[0m\u001b[0;34m\u001b[0m\u001b[0;34m\u001b[0m\u001b[0;34m\u001b[0m\u001b[0m\n\u001b[0;32m---> 11\u001b[0;31m \u001b[0mmodel\u001b[0m\u001b[0;34m.\u001b[0m\u001b[0mfit\u001b[0m\u001b[0;34m(\u001b[0m\u001b[0mX_train\u001b[0m\u001b[0;34m,\u001b[0m \u001b[0my_train\u001b[0m\u001b[0;34m,\u001b[0m \u001b[0mepochs\u001b[0m\u001b[0;34m=\u001b[0m\u001b[0;36m150\u001b[0m\u001b[0;34m,\u001b[0m \u001b[0mbatch_size\u001b[0m\u001b[0;34m=\u001b[0m\u001b[0;36m32\u001b[0m\u001b[0;34m,\u001b[0m \u001b[0mverbose\u001b[0m\u001b[0;34m=\u001b[0m\u001b[0;36m2\u001b[0m\u001b[0;34m)\u001b[0m \u001b[0;31m# Hint: You can change the verbose value to 2 to see epochs\u001b[0m\u001b[0;34m\u001b[0m\u001b[0;34m\u001b[0m\u001b[0m\n\u001b[0m\u001b[1;32m     12\u001b[0m \u001b[0;34m\u001b[0m\u001b[0m\n\u001b[1;32m     13\u001b[0m \u001b[0;31m# Step-4 Evaluate the model\u001b[0m\u001b[0;34m\u001b[0m\u001b[0;34m\u001b[0m\u001b[0;34m\u001b[0m\u001b[0m\n",
      "\u001b[0;32m~/.local/lib/python3.8/site-packages/keras/utils/traceback_utils.py\u001b[0m in \u001b[0;36merror_handler\u001b[0;34m(*args, **kwargs)\u001b[0m\n\u001b[1;32m     62\u001b[0m     \u001b[0mfiltered_tb\u001b[0m \u001b[0;34m=\u001b[0m \u001b[0;32mNone\u001b[0m\u001b[0;34m\u001b[0m\u001b[0;34m\u001b[0m\u001b[0m\n\u001b[1;32m     63\u001b[0m     \u001b[0;32mtry\u001b[0m\u001b[0;34m:\u001b[0m\u001b[0;34m\u001b[0m\u001b[0;34m\u001b[0m\u001b[0m\n\u001b[0;32m---> 64\u001b[0;31m       \u001b[0;32mreturn\u001b[0m \u001b[0mfn\u001b[0m\u001b[0;34m(\u001b[0m\u001b[0;34m*\u001b[0m\u001b[0margs\u001b[0m\u001b[0;34m,\u001b[0m \u001b[0;34m**\u001b[0m\u001b[0mkwargs\u001b[0m\u001b[0;34m)\u001b[0m\u001b[0;34m\u001b[0m\u001b[0;34m\u001b[0m\u001b[0m\n\u001b[0m\u001b[1;32m     65\u001b[0m     \u001b[0;32mexcept\u001b[0m \u001b[0mException\u001b[0m \u001b[0;32mas\u001b[0m \u001b[0me\u001b[0m\u001b[0;34m:\u001b[0m  \u001b[0;31m# pylint: disable=broad-except\u001b[0m\u001b[0;34m\u001b[0m\u001b[0;34m\u001b[0m\u001b[0m\n\u001b[1;32m     66\u001b[0m       \u001b[0mfiltered_tb\u001b[0m \u001b[0;34m=\u001b[0m \u001b[0m_process_traceback_frames\u001b[0m\u001b[0;34m(\u001b[0m\u001b[0me\u001b[0m\u001b[0;34m.\u001b[0m\u001b[0m__traceback__\u001b[0m\u001b[0;34m)\u001b[0m\u001b[0;34m\u001b[0m\u001b[0;34m\u001b[0m\u001b[0m\n",
      "\u001b[0;32m~/.local/lib/python3.8/site-packages/keras/engine/training.py\u001b[0m in \u001b[0;36mfit\u001b[0;34m(self, x, y, batch_size, epochs, verbose, callbacks, validation_split, validation_data, shuffle, class_weight, sample_weight, initial_epoch, steps_per_epoch, validation_steps, validation_batch_size, validation_freq, max_queue_size, workers, use_multiprocessing)\u001b[0m\n\u001b[1;32m   1407\u001b[0m                 _r=1):\n\u001b[1;32m   1408\u001b[0m               \u001b[0mcallbacks\u001b[0m\u001b[0;34m.\u001b[0m\u001b[0mon_train_batch_begin\u001b[0m\u001b[0;34m(\u001b[0m\u001b[0mstep\u001b[0m\u001b[0;34m)\u001b[0m\u001b[0;34m\u001b[0m\u001b[0;34m\u001b[0m\u001b[0m\n\u001b[0;32m-> 1409\u001b[0;31m               \u001b[0mtmp_logs\u001b[0m \u001b[0;34m=\u001b[0m \u001b[0mself\u001b[0m\u001b[0;34m.\u001b[0m\u001b[0mtrain_function\u001b[0m\u001b[0;34m(\u001b[0m\u001b[0miterator\u001b[0m\u001b[0;34m)\u001b[0m\u001b[0;34m\u001b[0m\u001b[0;34m\u001b[0m\u001b[0m\n\u001b[0m\u001b[1;32m   1410\u001b[0m               \u001b[0;32mif\u001b[0m \u001b[0mdata_handler\u001b[0m\u001b[0;34m.\u001b[0m\u001b[0mshould_sync\u001b[0m\u001b[0;34m:\u001b[0m\u001b[0;34m\u001b[0m\u001b[0;34m\u001b[0m\u001b[0m\n\u001b[1;32m   1411\u001b[0m                 \u001b[0mcontext\u001b[0m\u001b[0;34m.\u001b[0m\u001b[0masync_wait\u001b[0m\u001b[0;34m(\u001b[0m\u001b[0;34m)\u001b[0m\u001b[0;34m\u001b[0m\u001b[0;34m\u001b[0m\u001b[0m\n",
      "\u001b[0;32m~/.local/lib/python3.8/site-packages/tensorflow/python/util/traceback_utils.py\u001b[0m in \u001b[0;36merror_handler\u001b[0;34m(*args, **kwargs)\u001b[0m\n\u001b[1;32m    148\u001b[0m     \u001b[0mfiltered_tb\u001b[0m \u001b[0;34m=\u001b[0m \u001b[0;32mNone\u001b[0m\u001b[0;34m\u001b[0m\u001b[0;34m\u001b[0m\u001b[0m\n\u001b[1;32m    149\u001b[0m     \u001b[0;32mtry\u001b[0m\u001b[0;34m:\u001b[0m\u001b[0;34m\u001b[0m\u001b[0;34m\u001b[0m\u001b[0m\n\u001b[0;32m--> 150\u001b[0;31m       \u001b[0;32mreturn\u001b[0m \u001b[0mfn\u001b[0m\u001b[0;34m(\u001b[0m\u001b[0;34m*\u001b[0m\u001b[0margs\u001b[0m\u001b[0;34m,\u001b[0m \u001b[0;34m**\u001b[0m\u001b[0mkwargs\u001b[0m\u001b[0;34m)\u001b[0m\u001b[0;34m\u001b[0m\u001b[0;34m\u001b[0m\u001b[0m\n\u001b[0m\u001b[1;32m    151\u001b[0m     \u001b[0;32mexcept\u001b[0m \u001b[0mException\u001b[0m \u001b[0;32mas\u001b[0m \u001b[0me\u001b[0m\u001b[0;34m:\u001b[0m\u001b[0;34m\u001b[0m\u001b[0;34m\u001b[0m\u001b[0m\n\u001b[1;32m    152\u001b[0m       \u001b[0mfiltered_tb\u001b[0m \u001b[0;34m=\u001b[0m \u001b[0m_process_traceback_frames\u001b[0m\u001b[0;34m(\u001b[0m\u001b[0me\u001b[0m\u001b[0;34m.\u001b[0m\u001b[0m__traceback__\u001b[0m\u001b[0;34m)\u001b[0m\u001b[0;34m\u001b[0m\u001b[0;34m\u001b[0m\u001b[0m\n",
      "\u001b[0;32m~/.local/lib/python3.8/site-packages/tensorflow/python/eager/def_function.py\u001b[0m in \u001b[0;36m__call__\u001b[0;34m(self, *args, **kwds)\u001b[0m\n\u001b[1;32m    913\u001b[0m \u001b[0;34m\u001b[0m\u001b[0m\n\u001b[1;32m    914\u001b[0m       \u001b[0;32mwith\u001b[0m \u001b[0mOptionalXlaContext\u001b[0m\u001b[0;34m(\u001b[0m\u001b[0mself\u001b[0m\u001b[0;34m.\u001b[0m\u001b[0m_jit_compile\u001b[0m\u001b[0;34m)\u001b[0m\u001b[0;34m:\u001b[0m\u001b[0;34m\u001b[0m\u001b[0;34m\u001b[0m\u001b[0m\n\u001b[0;32m--> 915\u001b[0;31m         \u001b[0mresult\u001b[0m \u001b[0;34m=\u001b[0m \u001b[0mself\u001b[0m\u001b[0;34m.\u001b[0m\u001b[0m_call\u001b[0m\u001b[0;34m(\u001b[0m\u001b[0;34m*\u001b[0m\u001b[0margs\u001b[0m\u001b[0;34m,\u001b[0m \u001b[0;34m**\u001b[0m\u001b[0mkwds\u001b[0m\u001b[0;34m)\u001b[0m\u001b[0;34m\u001b[0m\u001b[0;34m\u001b[0m\u001b[0m\n\u001b[0m\u001b[1;32m    916\u001b[0m \u001b[0;34m\u001b[0m\u001b[0m\n\u001b[1;32m    917\u001b[0m       \u001b[0mnew_tracing_count\u001b[0m \u001b[0;34m=\u001b[0m \u001b[0mself\u001b[0m\u001b[0;34m.\u001b[0m\u001b[0mexperimental_get_tracing_count\u001b[0m\u001b[0;34m(\u001b[0m\u001b[0;34m)\u001b[0m\u001b[0;34m\u001b[0m\u001b[0;34m\u001b[0m\u001b[0m\n",
      "\u001b[0;32m~/.local/lib/python3.8/site-packages/tensorflow/python/eager/def_function.py\u001b[0m in \u001b[0;36m_call\u001b[0;34m(self, *args, **kwds)\u001b[0m\n\u001b[1;32m    945\u001b[0m       \u001b[0;31m# In this case we have created variables on the first call, so we run the\u001b[0m\u001b[0;34m\u001b[0m\u001b[0;34m\u001b[0m\u001b[0;34m\u001b[0m\u001b[0m\n\u001b[1;32m    946\u001b[0m       \u001b[0;31m# defunned version which is guaranteed to never create variables.\u001b[0m\u001b[0;34m\u001b[0m\u001b[0;34m\u001b[0m\u001b[0;34m\u001b[0m\u001b[0m\n\u001b[0;32m--> 947\u001b[0;31m       \u001b[0;32mreturn\u001b[0m \u001b[0mself\u001b[0m\u001b[0;34m.\u001b[0m\u001b[0m_stateless_fn\u001b[0m\u001b[0;34m(\u001b[0m\u001b[0;34m*\u001b[0m\u001b[0margs\u001b[0m\u001b[0;34m,\u001b[0m \u001b[0;34m**\u001b[0m\u001b[0mkwds\u001b[0m\u001b[0;34m)\u001b[0m  \u001b[0;31m# pylint: disable=not-callable\u001b[0m\u001b[0;34m\u001b[0m\u001b[0;34m\u001b[0m\u001b[0m\n\u001b[0m\u001b[1;32m    948\u001b[0m     \u001b[0;32melif\u001b[0m \u001b[0mself\u001b[0m\u001b[0;34m.\u001b[0m\u001b[0m_stateful_fn\u001b[0m \u001b[0;32mis\u001b[0m \u001b[0;32mnot\u001b[0m \u001b[0;32mNone\u001b[0m\u001b[0;34m:\u001b[0m\u001b[0;34m\u001b[0m\u001b[0;34m\u001b[0m\u001b[0m\n\u001b[1;32m    949\u001b[0m       \u001b[0;31m# Release the lock early so that multiple threads can perform the call\u001b[0m\u001b[0;34m\u001b[0m\u001b[0;34m\u001b[0m\u001b[0;34m\u001b[0m\u001b[0m\n",
      "\u001b[0;32m~/.local/lib/python3.8/site-packages/tensorflow/python/eager/function.py\u001b[0m in \u001b[0;36m__call__\u001b[0;34m(self, *args, **kwargs)\u001b[0m\n\u001b[1;32m   2451\u001b[0m       (graph_function,\n\u001b[1;32m   2452\u001b[0m        filtered_flat_args) = self._maybe_define_function(args, kwargs)\n\u001b[0;32m-> 2453\u001b[0;31m     return graph_function._call_flat(\n\u001b[0m\u001b[1;32m   2454\u001b[0m         filtered_flat_args, captured_inputs=graph_function.captured_inputs)  # pylint: disable=protected-access\n\u001b[1;32m   2455\u001b[0m \u001b[0;34m\u001b[0m\u001b[0m\n",
      "\u001b[0;32m~/.local/lib/python3.8/site-packages/tensorflow/python/eager/function.py\u001b[0m in \u001b[0;36m_call_flat\u001b[0;34m(self, args, captured_inputs, cancellation_manager)\u001b[0m\n\u001b[1;32m   1858\u001b[0m         and executing_eagerly):\n\u001b[1;32m   1859\u001b[0m       \u001b[0;31m# No tape is watching; skip to running the function.\u001b[0m\u001b[0;34m\u001b[0m\u001b[0;34m\u001b[0m\u001b[0;34m\u001b[0m\u001b[0m\n\u001b[0;32m-> 1860\u001b[0;31m       return self._build_call_outputs(self._inference_function.call(\n\u001b[0m\u001b[1;32m   1861\u001b[0m           ctx, args, cancellation_manager=cancellation_manager))\n\u001b[1;32m   1862\u001b[0m     forward_backward = self._select_forward_and_backward_functions(\n",
      "\u001b[0;32m~/.local/lib/python3.8/site-packages/tensorflow/python/eager/function.py\u001b[0m in \u001b[0;36mcall\u001b[0;34m(self, ctx, args, cancellation_manager)\u001b[0m\n\u001b[1;32m    495\u001b[0m       \u001b[0;32mwith\u001b[0m \u001b[0m_InterpolateFunctionError\u001b[0m\u001b[0;34m(\u001b[0m\u001b[0mself\u001b[0m\u001b[0;34m)\u001b[0m\u001b[0;34m:\u001b[0m\u001b[0;34m\u001b[0m\u001b[0;34m\u001b[0m\u001b[0m\n\u001b[1;32m    496\u001b[0m         \u001b[0;32mif\u001b[0m \u001b[0mcancellation_manager\u001b[0m \u001b[0;32mis\u001b[0m \u001b[0;32mNone\u001b[0m\u001b[0;34m:\u001b[0m\u001b[0;34m\u001b[0m\u001b[0;34m\u001b[0m\u001b[0m\n\u001b[0;32m--> 497\u001b[0;31m           outputs = execute.execute(\n\u001b[0m\u001b[1;32m    498\u001b[0m               \u001b[0mstr\u001b[0m\u001b[0;34m(\u001b[0m\u001b[0mself\u001b[0m\u001b[0;34m.\u001b[0m\u001b[0msignature\u001b[0m\u001b[0;34m.\u001b[0m\u001b[0mname\u001b[0m\u001b[0;34m)\u001b[0m\u001b[0;34m,\u001b[0m\u001b[0;34m\u001b[0m\u001b[0;34m\u001b[0m\u001b[0m\n\u001b[1;32m    499\u001b[0m               \u001b[0mnum_outputs\u001b[0m\u001b[0;34m=\u001b[0m\u001b[0mself\u001b[0m\u001b[0;34m.\u001b[0m\u001b[0m_num_outputs\u001b[0m\u001b[0;34m,\u001b[0m\u001b[0;34m\u001b[0m\u001b[0;34m\u001b[0m\u001b[0m\n",
      "\u001b[0;32m~/.local/lib/python3.8/site-packages/tensorflow/python/eager/execute.py\u001b[0m in \u001b[0;36mquick_execute\u001b[0;34m(op_name, num_outputs, inputs, attrs, ctx, name)\u001b[0m\n\u001b[1;32m     52\u001b[0m   \u001b[0;32mtry\u001b[0m\u001b[0;34m:\u001b[0m\u001b[0;34m\u001b[0m\u001b[0;34m\u001b[0m\u001b[0m\n\u001b[1;32m     53\u001b[0m     \u001b[0mctx\u001b[0m\u001b[0;34m.\u001b[0m\u001b[0mensure_initialized\u001b[0m\u001b[0;34m(\u001b[0m\u001b[0;34m)\u001b[0m\u001b[0;34m\u001b[0m\u001b[0;34m\u001b[0m\u001b[0m\n\u001b[0;32m---> 54\u001b[0;31m     tensors = pywrap_tfe.TFE_Py_Execute(ctx._handle, device_name, op_name,\n\u001b[0m\u001b[1;32m     55\u001b[0m                                         inputs, attrs, num_outputs)\n\u001b[1;32m     56\u001b[0m   \u001b[0;32mexcept\u001b[0m \u001b[0mcore\u001b[0m\u001b[0;34m.\u001b[0m\u001b[0m_NotOkStatusException\u001b[0m \u001b[0;32mas\u001b[0m \u001b[0me\u001b[0m\u001b[0;34m:\u001b[0m\u001b[0;34m\u001b[0m\u001b[0;34m\u001b[0m\u001b[0m\n",
      "\u001b[0;31mKeyboardInterrupt\u001b[0m: "
     ]
    }
   ],
   "source": [
    "# Step-1 Define Model\n",
    "model= Sequential()\n",
    "model.add(Dense(10, activation='relu', kernel_initializer='he_normal', input_shape=(n_features,)))  # Hidden Layer\n",
    "model.add(Dense(8, activation='relu', kernel_initializer='he_normal')) # Hidden Layer\n",
    "model.add(Dense(1, activation='sigmoid'))  # Output Layer\n",
    "          \n",
    "# Step-2 Compile the model\n",
    "model.compile(optimizer='adam', loss='binary_crossentropy', metrics= ['accuracy'])\n",
    "          \n",
    "# Step-3 Fit the model\n",
    "model.fit(X_train, y_train, epochs=150, batch_size=32, verbose=2) # Hint: You can change the verbose value to 2 to see epochs\n",
    "          \n",
    "# Step-4 Evaluate the model\n",
    "loss, acc = model.evaluate(X_test, y_test, verbose=0)\n",
    "print('Test accuracy : %.3f' %acc)"
   ]
  },
  {
   "cell_type": "code",
   "execution_count": null,
   "metadata": {},
   "outputs": [
    {
     "name": "stdout",
     "output_type": "stream",
     "text": [
      "1/1 [==============================] - 0s 100ms/step\n",
      "Predicted: False\n"
     ]
    }
   ],
   "source": [
    "# Step-5 Make a prediction\n",
    "row=[[0.646480, 1.445573, 43098.374254, 0.000000464056, 18.070]]\n",
    "prediction = model.predict(row)\n",
    "\n",
    "if prediction == 0: prediction = False\n",
    "else: prediction = True\n",
    "\n",
    "print('Predicted:', prediction)"
   ]
  }
 ],
 "metadata": {
  "kernelspec": {
   "display_name": "Python 3.10.6 64-bit (microsoft store)",
   "language": "python",
   "name": "python3"
  },
  "language_info": {
   "codemirror_mode": {
    "name": "ipython",
    "version": 3
   },
   "file_extension": ".py",
   "mimetype": "text/x-python",
   "name": "python",
   "nbconvert_exporter": "python",
   "pygments_lexer": "ipython3",
   "version": "3.10.8"
  },
  "orig_nbformat": 4,
  "vscode": {
   "interpreter": {
    "hash": "51d73a63d587949d22c037cbe4a5cfa654ea8293b64812750ba1392921e40c26"
   }
  }
 },
 "nbformat": 4,
 "nbformat_minor": 2
}
